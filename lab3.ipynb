{
 "cells": [
  {
   "cell_type": "code",
   "execution_count": 5,
   "metadata": {},
   "outputs": [],
   "source": [
    "from pulp import *"
   ]
  },
  {
   "cell_type": "markdown",
   "metadata": {},
   "source": [
    "WEEK 3 OPTIMISATION\n"
   ]
  },
  {
   "cell_type": "markdown",
   "metadata": {},
   "source": [
    "Question 1 \n"
   ]
  },
  {
   "cell_type": "code",
   "execution_count": 6,
   "metadata": {},
   "outputs": [],
   "source": [
    "problem = LpProblem('Q1', LpMinimize)  # Create an instance of LpProblem\n",
    "\n",
    "# Create Decision Variables\n",
    "X = LpVariable('X', lowBound=0 , cat=LpInteger)\n",
    "Y = LpVariable('Y', lowBound=0 , cat=LpInteger)"
   ]
  },
  {
   "cell_type": "markdown",
   "metadata": {},
   "source": [
    "Objective Function and Constraints"
   ]
  },
  {
   "cell_type": "code",
   "execution_count": 7,
   "metadata": {},
   "outputs": [
    {
     "name": "stdout",
     "output_type": "stream",
     "text": [
      "Q1:\n",
      "MINIMIZE\n",
      "5*X + 4*Y + 0\n",
      "SUBJECT TO\n",
      "_C1: 4 X + Y >= 40\n",
      "\n",
      "_C2: 2 X + 3 Y >= 90\n",
      "\n",
      "_C3: X >= 0\n",
      "\n",
      "_C4: Y >= 0\n",
      "\n",
      "VARIABLES\n",
      "0 <= X Integer\n",
      "0 <= Y Integer\n",
      "\n"
     ]
    }
   ],
   "source": [
    "\n",
    "#Objective Function\n",
    "problem += 5*X+ 4*Y , 'Objective Function'\n",
    "\n",
    "#Constraints\n",
    "problem += 4*X + Y >=40\n",
    "problem += 2*X + 3*Y >= 90\n",
    "problem += X >= 0 \n",
    "problem += Y >= 0\n",
    "\n",
    "\n",
    "print(problem)"
   ]
  },
  {
   "cell_type": "markdown",
   "metadata": {},
   "source": [
    "Status"
   ]
  },
  {
   "cell_type": "code",
   "execution_count": 8,
   "metadata": {},
   "outputs": [
    {
     "name": "stdout",
     "output_type": "stream",
     "text": [
      "Current Status:  Not Solved\n"
     ]
    }
   ],
   "source": [
    "print(\"Current Status: \", LpStatus[problem.status])  # Prints status of problem"
   ]
  },
  {
   "cell_type": "markdown",
   "metadata": {},
   "source": [
    "Solve The Problem"
   ]
  },
  {
   "cell_type": "code",
   "execution_count": 9,
   "metadata": {},
   "outputs": [
    {
     "name": "stdout",
     "output_type": "stream",
     "text": [
      "Number of X made:  3.0\n",
      "Number of Y made:  28.0\n",
      "Total Profit:  127.0\n",
      "Current Status:  Optimal\n"
     ]
    }
   ],
   "source": [
    "# Solve the Problem\n",
    "problem.solve()\n",
    "print(\"Number of X made: \", X.varValue)\n",
    "print(\"Number of Y made: \", Y.varValue)\n",
    "print(\"Total Profit: \", value(problem.objective))\n",
    "\n",
    "\n",
    "# Status : Optimal\n",
    "print(\"Current Status: \", LpStatus[problem.status])  # Prints status of problem"
   ]
  },
  {
   "cell_type": "markdown",
   "metadata": {},
   "source": [
    "Question 2"
   ]
  },
  {
   "cell_type": "code",
   "execution_count": 10,
   "metadata": {},
   "outputs": [],
   "source": [
    "problem = LpProblem('Q2', LpMaximize)  # Create an instance of LpProblem\n",
    "\n",
    "# Create Decision Variables\n",
    "X = LpVariable('X', lowBound=0 , cat=LpInteger)\n",
    "Y = LpVariable('Y', lowBound=0 , cat=LpInteger)\n",
    "Z = LpVariable('Z',lowBound=0, cat=LpInteger)"
   ]
  },
  {
   "cell_type": "markdown",
   "metadata": {},
   "source": [
    "Objective Function and Constraint"
   ]
  },
  {
   "cell_type": "code",
   "execution_count": 11,
   "metadata": {},
   "outputs": [
    {
     "name": "stdout",
     "output_type": "stream",
     "text": [
      "Q2:\n",
      "MAXIMIZE\n",
      "1*X + 2*Y + 3*Z + 0\n",
      "SUBJECT TO\n",
      "_C1: X + Y + Z <= 12.2\n",
      "\n",
      "_C2: 2 X + Y + 3 Z <= 18.5\n",
      "\n",
      "_C3: X >= 0\n",
      "\n",
      "_C4: Y >= 0\n",
      "\n",
      "_C5: Z >= 0\n",
      "\n",
      "VARIABLES\n",
      "0 <= X Integer\n",
      "0 <= Y Integer\n",
      "0 <= Z Integer\n",
      "\n"
     ]
    }
   ],
   "source": [
    "#Objective Function\n",
    "problem += X+2*Y+3*Z, 'Objective Function'\n",
    "\n",
    "#Constraints\n",
    "problem += X+Y+Z <=12.2\n",
    "problem += 2*X + Y + 3*Z <=18.5\n",
    "problem += X>= 0\n",
    "problem += Y >= 0\n",
    "problem += Z >= 0\n",
    "\n",
    "\n",
    "print(problem)"
   ]
  },
  {
   "cell_type": "markdown",
   "metadata": {},
   "source": [
    "Status\n"
   ]
  },
  {
   "cell_type": "code",
   "execution_count": 12,
   "metadata": {},
   "outputs": [
    {
     "name": "stdout",
     "output_type": "stream",
     "text": [
      "Current Status:  Not Solved\n"
     ]
    }
   ],
   "source": [
    "# Status:\n",
    "print(\"Current Status: \", LpStatus[problem.status])  # Prints status of problem"
   ]
  },
  {
   "cell_type": "code",
   "execution_count": 13,
   "metadata": {},
   "outputs": [
    {
     "name": "stdout",
     "output_type": "stream",
     "text": [
      "Number of X made:  0.0\n",
      "Number of Y made:  9.0\n",
      "Number of Z made:  3.0\n",
      "Total Profit:  27.0\n",
      "Current Status:  Optimal\n"
     ]
    }
   ],
   "source": [
    "# Solve the Problem\n",
    "problem.solve()\n",
    "print(\"Number of X made: \", X.varValue)\n",
    "print(\"Number of Y made: \", Y.varValue)\n",
    "print(\"Number of Z made: \", Z.varValue)\n",
    "print(\"Total Profit: \", value(problem.objective))\n",
    "\n",
    "\n",
    "# Status : Optimal\n",
    "print(\"Current Status: \", LpStatus[problem.status])  # Prints status of problem"
   ]
  },
  {
   "cell_type": "markdown",
   "metadata": {},
   "source": [
    "Question 3"
   ]
  },
  {
   "cell_type": "code",
   "execution_count": 27,
   "metadata": {},
   "outputs": [],
   "source": [
    "problem = LpProblem('Q3', LpMaximize)  # Create an instance of LpProblem\n",
    "\n",
    "\n",
    "# Create Decision Variables\n",
    "X = LpVariable('X', lowBound=0 , cat=LpInteger)\n",
    "Y = LpVariable('Y', lowBound=0 , cat=LpInteger)\n",
    "Z = LpVariable('Z', lowBound=0 , cat=LpBinary)"
   ]
  },
  {
   "cell_type": "markdown",
   "metadata": {},
   "source": [
    "Objective Function and Constraints"
   ]
  },
  {
   "cell_type": "code",
   "execution_count": 28,
   "metadata": {},
   "outputs": [
    {
     "name": "stdout",
     "output_type": "stream",
     "text": [
      "Q3:\n",
      "MAXIMIZE\n",
      "22*X + 50*Y + 0\n",
      "SUBJECT TO\n",
      "_C1: 30 X + 40 Y <= 126\n",
      "\n",
      "_C2: 12 X - 7 Y <= 6\n",
      "\n",
      "_C3: X - Y <= 10\n",
      "\n",
      "_C4: 17 X + 28 Y - 100 Z >= 35\n",
      "\n",
      "_C5: X >= 1\n",
      "\n",
      "_C6: Y >= 1\n",
      "\n",
      "VARIABLES\n",
      "0 <= X Integer\n",
      "0 <= Y Integer\n",
      "0 <= Z <= 1 Integer\n",
      "\n"
     ]
    }
   ],
   "source": [
    "# Objective Function and Constraints\n",
    "\n",
    "#Objective Function\n",
    "problem += 22*X + 50*Y, 'Objective Function'\n",
    "\n",
    "#Constraints\n",
    "problem += 30*X + 40*Y <= 126\n",
    "problem += 12*X - 7*Y <= 6\n",
    "if Z == 1.0:\n",
    "    problem += X <= Y + 10 \n",
    "problem += 17*X + 28*Y - 100*Z >= 35\n",
    "problem += X >= 1\n",
    "problem += Y >= 1\n",
    "\n",
    "print(problem)"
   ]
  },
  {
   "cell_type": "code",
   "execution_count": 29,
   "metadata": {},
   "outputs": [
    {
     "name": "stdout",
     "output_type": "stream",
     "text": [
      "Current Status:  Not Solved\n"
     ]
    }
   ],
   "source": [
    "# Status:\n",
    "print(\"Current Status: \", LpStatus[problem.status])  # Prints status of problem"
   ]
  },
  {
   "cell_type": "code",
   "execution_count": 30,
   "metadata": {},
   "outputs": [
    {
     "name": "stdout",
     "output_type": "stream",
     "text": [
      "Number of X made:  1.0\n",
      "Number of Y made:  2.0\n",
      "Number of Z made:  0.0\n",
      "Total Profit:  122.0\n",
      "Current Status:  Optimal\n"
     ]
    }
   ],
   "source": [
    "# Solve the Problem\n",
    "problem.solve()\n",
    "print(\"Number of X made: \", X.varValue)\n",
    "print(\"Number of Y made: \", Y.varValue)\n",
    "print(\"Number of Z made: \", Z.varValue)\n",
    "print(\"Total Profit: \", value(problem.objective))\n",
    "\n",
    "\n",
    "# Status : Optimal\n",
    "print(\"Current Status: \", LpStatus[problem.status])  # Prints status of problem"
   ]
  },
  {
   "cell_type": "markdown",
   "metadata": {},
   "source": [
    "Question 4 "
   ]
  },
  {
   "cell_type": "code",
   "execution_count": 31,
   "metadata": {},
   "outputs": [],
   "source": [
    "problem = LpProblem('Q4', LpMaximize)  # Create an instance of LpProblem\n",
    "\n",
    "# Create Decision Variables\n",
    "X = LpVariable('X', lowBound=0 , cat=LpInteger)\n",
    "Y = LpVariable('Y', lowBound=0 , cat=LpInteger)\n",
    "Z = LpVariable('Z', lowBound=0 , cat=LpInteger)"
   ]
  },
  {
   "cell_type": "code",
   "execution_count": null,
   "metadata": {},
   "outputs": [],
   "source": []
  }
 ],
 "metadata": {
  "kernelspec": {
   "display_name": "Python 3.10.7 64-bit",
   "language": "python",
   "name": "python3"
  },
  "language_info": {
   "codemirror_mode": {
    "name": "ipython",
    "version": 3
   },
   "file_extension": ".py",
   "mimetype": "text/x-python",
   "name": "python",
   "nbconvert_exporter": "python",
   "pygments_lexer": "ipython3",
   "version": "3.10.7"
  },
  "orig_nbformat": 4,
  "vscode": {
   "interpreter": {
    "hash": "0ad8f95b8877c3a5b397b50b5e4d28358dd37adcbb03ef1de1909d467b26110b"
   }
  }
 },
 "nbformat": 4,
 "nbformat_minor": 2
}
