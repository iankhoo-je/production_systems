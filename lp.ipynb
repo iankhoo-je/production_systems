{
 "cells": [
  {
   "cell_type": "code",
   "execution_count": 2,
   "metadata": {},
   "outputs": [
    {
     "name": "stdout",
     "output_type": "stream",
     "text": [
      "Requirement already satisfied: pulp in c:\\users\\ian\\appdata\\local\\programs\\python\\python310\\lib\\site-packages (2.6.0)\n",
      "Note: you may need to restart the kernel to use updated packages.\n"
     ]
    }
   ],
   "source": [
    "pip install pulp\n"
   ]
  },
  {
   "cell_type": "code",
   "execution_count": 3,
   "metadata": {},
   "outputs": [],
   "source": [
    "from pulp import *"
   ]
  },
  {
   "cell_type": "code",
   "execution_count": 4,
   "metadata": {},
   "outputs": [],
   "source": [
    "problem = LpProblem('Chem', LpMaximize)  # Create an instance of LpProblem\n",
    "\n",
    "# Create Decision Variables\n",
    "X = LpVariable('X', lowBound=0 , cat=LpInteger)\n",
    "Y = LpVariable('Y', lowBound=0 , cat=LpInteger)\n"
   ]
  },
  {
   "cell_type": "code",
   "execution_count": 5,
   "metadata": {},
   "outputs": [
    {
     "name": "stdout",
     "output_type": "stream",
     "text": [
      "Chem:\n",
      "MAXIMIZE\n",
      "3*X + 2*Y + 0\n",
      "SUBJECT TO\n",
      "_C1: 2 X + Y <= 100\n",
      "\n",
      "_C2: X + Y <= 80\n",
      "\n",
      "_C3: X <= 40\n",
      "\n",
      "_C4: X >= 0\n",
      "\n",
      "_C5: Y >= 0\n",
      "\n",
      "VARIABLES\n",
      "0 <= X Integer\n",
      "0 <= Y Integer\n",
      "\n"
     ]
    }
   ],
   "source": [
    "# Objective Function and Constraints\n",
    "\n",
    "#Objective Function\n",
    "problem += 3*X + 2*Y , 'Objective Function'\n",
    "\n",
    "#Constraints\n",
    "problem += 2*X + Y <= 100\n",
    "problem += X + Y <=80\n",
    "problem += X <= 40\n",
    "problem += X>= 0\n",
    "problem += Y >= 0\n",
    "\n",
    "print(problem)"
   ]
  },
  {
   "cell_type": "code",
   "execution_count": 6,
   "metadata": {},
   "outputs": [
    {
     "name": "stdout",
     "output_type": "stream",
     "text": [
      "Current Status:  Not Solved\n"
     ]
    }
   ],
   "source": [
    "# Status:\n",
    "print(\"Current Status: \", LpStatus[problem.status])  # Prints status of problem"
   ]
  },
  {
   "cell_type": "code",
   "execution_count": 7,
   "metadata": {},
   "outputs": [
    {
     "name": "stdout",
     "output_type": "stream",
     "text": [
      "Number of X made:  20.0\n",
      "Number of Y made:  60.0\n",
      "Total Profit:  180.0\n",
      "Current Status:  Optimal\n"
     ]
    }
   ],
   "source": [
    "# Solve the Problem\n",
    "problem.solve()\n",
    "print(\"Number of X made: \", X.varValue)\n",
    "print(\"Number of Y made: \", Y.varValue)\n",
    "print(\"Total Profit: \", value(problem.objective))\n",
    "\n",
    "\n",
    "# Status : Optimal\n",
    "print(\"Current Status: \", LpStatus[problem.status])  # Prints status of problem"
   ]
  },
  {
   "cell_type": "code",
   "execution_count": null,
   "metadata": {},
   "outputs": [],
   "source": []
  }
 ],
 "metadata": {
  "kernelspec": {
   "display_name": "Python 3.10.7 64-bit",
   "language": "python",
   "name": "python3"
  },
  "language_info": {
   "codemirror_mode": {
    "name": "ipython",
    "version": 3
   },
   "file_extension": ".py",
   "mimetype": "text/x-python",
   "name": "python",
   "nbconvert_exporter": "python",
   "pygments_lexer": "ipython3",
   "version": "3.10.7"
  },
  "orig_nbformat": 4,
  "vscode": {
   "interpreter": {
    "hash": "0ad8f95b8877c3a5b397b50b5e4d28358dd37adcbb03ef1de1909d467b26110b"
   }
  }
 },
 "nbformat": 4,
 "nbformat_minor": 2
}
